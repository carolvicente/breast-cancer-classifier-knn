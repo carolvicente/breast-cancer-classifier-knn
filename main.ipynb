{
 "cells": [
  {
   "cell_type": "markdown",
   "metadata": {},
   "source": [
    "## Breast  Cancer Classifier\n",
    "\n",
    "### Prepares the Data\n",
    "* Reads the data\n",
    "* Deletes the Index Column\n",
    "* Creates columns for the unlabeled data\n",
    "* Renamed the first column to TYPE"
   ]
  },
  {
   "cell_type": "code",
   "execution_count": 116,
   "metadata": {},
   "outputs": [],
   "source": [
    "import pandas as pd"
   ]
  },
  {
   "cell_type": "code",
   "execution_count": 117,
   "metadata": {},
   "outputs": [
    {
     "data": {
      "text/html": [
       "<div>\n",
       "<style scoped>\n",
       "    .dataframe tbody tr th:only-of-type {\n",
       "        vertical-align: middle;\n",
       "    }\n",
       "\n",
       "    .dataframe tbody tr th {\n",
       "        vertical-align: top;\n",
       "    }\n",
       "\n",
       "    .dataframe thead th {\n",
       "        text-align: right;\n",
       "    }\n",
       "</style>\n",
       "<table border=\"1\" class=\"dataframe\">\n",
       "  <thead>\n",
       "    <tr style=\"text-align: right;\">\n",
       "      <th></th>\n",
       "      <th>TYPE</th>\n",
       "      <th>2</th>\n",
       "      <th>3</th>\n",
       "      <th>4</th>\n",
       "      <th>5</th>\n",
       "      <th>6</th>\n",
       "      <th>7</th>\n",
       "      <th>8</th>\n",
       "      <th>9</th>\n",
       "      <th>10</th>\n",
       "      <th>...</th>\n",
       "      <th>22</th>\n",
       "      <th>23</th>\n",
       "      <th>24</th>\n",
       "      <th>25</th>\n",
       "      <th>26</th>\n",
       "      <th>27</th>\n",
       "      <th>28</th>\n",
       "      <th>29</th>\n",
       "      <th>30</th>\n",
       "      <th>31</th>\n",
       "    </tr>\n",
       "  </thead>\n",
       "  <tbody>\n",
       "    <tr>\n",
       "      <th>0</th>\n",
       "      <td>M</td>\n",
       "      <td>20.57</td>\n",
       "      <td>17.77</td>\n",
       "      <td>132.90</td>\n",
       "      <td>1326.0</td>\n",
       "      <td>0.08474</td>\n",
       "      <td>0.07864</td>\n",
       "      <td>0.0869</td>\n",
       "      <td>0.07017</td>\n",
       "      <td>0.1812</td>\n",
       "      <td>...</td>\n",
       "      <td>24.99</td>\n",
       "      <td>23.41</td>\n",
       "      <td>158.80</td>\n",
       "      <td>1956.0</td>\n",
       "      <td>0.1238</td>\n",
       "      <td>0.1866</td>\n",
       "      <td>0.2416</td>\n",
       "      <td>0.1860</td>\n",
       "      <td>0.2750</td>\n",
       "      <td>0.08902</td>\n",
       "    </tr>\n",
       "    <tr>\n",
       "      <th>1</th>\n",
       "      <td>M</td>\n",
       "      <td>19.69</td>\n",
       "      <td>21.25</td>\n",
       "      <td>130.00</td>\n",
       "      <td>1203.0</td>\n",
       "      <td>0.10960</td>\n",
       "      <td>0.15990</td>\n",
       "      <td>0.1974</td>\n",
       "      <td>0.12790</td>\n",
       "      <td>0.2069</td>\n",
       "      <td>...</td>\n",
       "      <td>23.57</td>\n",
       "      <td>25.53</td>\n",
       "      <td>152.50</td>\n",
       "      <td>1709.0</td>\n",
       "      <td>0.1444</td>\n",
       "      <td>0.4245</td>\n",
       "      <td>0.4504</td>\n",
       "      <td>0.2430</td>\n",
       "      <td>0.3613</td>\n",
       "      <td>0.08758</td>\n",
       "    </tr>\n",
       "    <tr>\n",
       "      <th>2</th>\n",
       "      <td>M</td>\n",
       "      <td>11.42</td>\n",
       "      <td>20.38</td>\n",
       "      <td>77.58</td>\n",
       "      <td>386.1</td>\n",
       "      <td>0.14250</td>\n",
       "      <td>0.28390</td>\n",
       "      <td>0.2414</td>\n",
       "      <td>0.10520</td>\n",
       "      <td>0.2597</td>\n",
       "      <td>...</td>\n",
       "      <td>14.91</td>\n",
       "      <td>26.50</td>\n",
       "      <td>98.87</td>\n",
       "      <td>567.7</td>\n",
       "      <td>0.2098</td>\n",
       "      <td>0.8663</td>\n",
       "      <td>0.6869</td>\n",
       "      <td>0.2575</td>\n",
       "      <td>0.6638</td>\n",
       "      <td>0.17300</td>\n",
       "    </tr>\n",
       "    <tr>\n",
       "      <th>3</th>\n",
       "      <td>M</td>\n",
       "      <td>20.29</td>\n",
       "      <td>14.34</td>\n",
       "      <td>135.10</td>\n",
       "      <td>1297.0</td>\n",
       "      <td>0.10030</td>\n",
       "      <td>0.13280</td>\n",
       "      <td>0.1980</td>\n",
       "      <td>0.10430</td>\n",
       "      <td>0.1809</td>\n",
       "      <td>...</td>\n",
       "      <td>22.54</td>\n",
       "      <td>16.67</td>\n",
       "      <td>152.20</td>\n",
       "      <td>1575.0</td>\n",
       "      <td>0.1374</td>\n",
       "      <td>0.2050</td>\n",
       "      <td>0.4000</td>\n",
       "      <td>0.1625</td>\n",
       "      <td>0.2364</td>\n",
       "      <td>0.07678</td>\n",
       "    </tr>\n",
       "    <tr>\n",
       "      <th>4</th>\n",
       "      <td>M</td>\n",
       "      <td>12.45</td>\n",
       "      <td>15.70</td>\n",
       "      <td>82.57</td>\n",
       "      <td>477.1</td>\n",
       "      <td>0.12780</td>\n",
       "      <td>0.17000</td>\n",
       "      <td>0.1578</td>\n",
       "      <td>0.08089</td>\n",
       "      <td>0.2087</td>\n",
       "      <td>...</td>\n",
       "      <td>15.47</td>\n",
       "      <td>23.75</td>\n",
       "      <td>103.40</td>\n",
       "      <td>741.6</td>\n",
       "      <td>0.1791</td>\n",
       "      <td>0.5249</td>\n",
       "      <td>0.5355</td>\n",
       "      <td>0.1741</td>\n",
       "      <td>0.3985</td>\n",
       "      <td>0.12440</td>\n",
       "    </tr>\n",
       "  </tbody>\n",
       "</table>\n",
       "<p>5 rows × 31 columns</p>\n",
       "</div>"
      ],
      "text/plain": [
       "  TYPE      2      3       4       5        6        7       8        9  \\\n",
       "0    M  20.57  17.77  132.90  1326.0  0.08474  0.07864  0.0869  0.07017   \n",
       "1    M  19.69  21.25  130.00  1203.0  0.10960  0.15990  0.1974  0.12790   \n",
       "2    M  11.42  20.38   77.58   386.1  0.14250  0.28390  0.2414  0.10520   \n",
       "3    M  20.29  14.34  135.10  1297.0  0.10030  0.13280  0.1980  0.10430   \n",
       "4    M  12.45  15.70   82.57   477.1  0.12780  0.17000  0.1578  0.08089   \n",
       "\n",
       "       10   ...        22     23      24      25      26      27      28  \\\n",
       "0  0.1812   ...     24.99  23.41  158.80  1956.0  0.1238  0.1866  0.2416   \n",
       "1  0.2069   ...     23.57  25.53  152.50  1709.0  0.1444  0.4245  0.4504   \n",
       "2  0.2597   ...     14.91  26.50   98.87   567.7  0.2098  0.8663  0.6869   \n",
       "3  0.1809   ...     22.54  16.67  152.20  1575.0  0.1374  0.2050  0.4000   \n",
       "4  0.2087   ...     15.47  23.75  103.40   741.6  0.1791  0.5249  0.5355   \n",
       "\n",
       "       29      30       31  \n",
       "0  0.1860  0.2750  0.08902  \n",
       "1  0.2430  0.3613  0.08758  \n",
       "2  0.2575  0.6638  0.17300  \n",
       "3  0.1625  0.2364  0.07678  \n",
       "4  0.1741  0.3985  0.12440  \n",
       "\n",
       "[5 rows x 31 columns]"
      ]
     },
     "execution_count": 117,
     "metadata": {},
     "output_type": "execute_result"
    }
   ],
   "source": [
    "data = pd.read_csv('wdbc_data.csv', index_col=0).reset_index()\n",
    "data.columns = [str(x) for x in range(0,32)]\n",
    "dt = data.drop('0', axis=1)\n",
    "dt = dt.rename(columns = {'1':'TYPE'})\n",
    "dt.head()"
   ]
  },
  {
   "cell_type": "markdown",
   "metadata": {},
   "source": [
    "### Standardize the Variables\n",
    "\n",
    "Because the KNN classifier predicts the class of a given test observation by identifying the observations that are nearest to it, the scale of the variables matters. Any variables that are on a large scale will have a much larger effect on the distance between the observations, and hence on the KNN classifier, than variables that are on a small scale."
   ]
  },
  {
   "cell_type": "code",
   "execution_count": 118,
   "metadata": {},
   "outputs": [],
   "source": [
    "from sklearn.preprocessing import StandardScaler"
   ]
  },
  {
   "cell_type": "code",
   "execution_count": 119,
   "metadata": {},
   "outputs": [],
   "source": [
    "scaler = StandardScaler()"
   ]
  },
  {
   "cell_type": "code",
   "execution_count": 120,
   "metadata": {},
   "outputs": [
    {
     "data": {
      "text/plain": [
       "StandardScaler(copy=True, with_mean=True, with_std=True)"
      ]
     },
     "execution_count": 120,
     "metadata": {},
     "output_type": "execute_result"
    }
   ],
   "source": [
    "scaler.fit(dt.drop('TYPE', axis=1))"
   ]
  },
  {
   "cell_type": "code",
   "execution_count": 121,
   "metadata": {},
   "outputs": [],
   "source": [
    "scaled_features = scaler.transform(dt.drop('TYPE', axis=1))"
   ]
  },
  {
   "cell_type": "code",
   "execution_count": 122,
   "metadata": {},
   "outputs": [
    {
     "data": {
      "text/html": [
       "<div>\n",
       "<style scoped>\n",
       "    .dataframe tbody tr th:only-of-type {\n",
       "        vertical-align: middle;\n",
       "    }\n",
       "\n",
       "    .dataframe tbody tr th {\n",
       "        vertical-align: top;\n",
       "    }\n",
       "\n",
       "    .dataframe thead th {\n",
       "        text-align: right;\n",
       "    }\n",
       "</style>\n",
       "<table border=\"1\" class=\"dataframe\">\n",
       "  <thead>\n",
       "    <tr style=\"text-align: right;\">\n",
       "      <th></th>\n",
       "      <th>2</th>\n",
       "      <th>3</th>\n",
       "      <th>4</th>\n",
       "      <th>5</th>\n",
       "      <th>6</th>\n",
       "      <th>7</th>\n",
       "      <th>8</th>\n",
       "      <th>9</th>\n",
       "      <th>10</th>\n",
       "      <th>11</th>\n",
       "      <th>...</th>\n",
       "      <th>22</th>\n",
       "      <th>23</th>\n",
       "      <th>24</th>\n",
       "      <th>25</th>\n",
       "      <th>26</th>\n",
       "      <th>27</th>\n",
       "      <th>28</th>\n",
       "      <th>29</th>\n",
       "      <th>30</th>\n",
       "      <th>31</th>\n",
       "    </tr>\n",
       "  </thead>\n",
       "  <tbody>\n",
       "    <tr>\n",
       "      <th>0</th>\n",
       "      <td>1.832084</td>\n",
       "      <td>-0.358327</td>\n",
       "      <td>1.689106</td>\n",
       "      <td>1.910392</td>\n",
       "      <td>-0.825266</td>\n",
       "      <td>-0.485498</td>\n",
       "      <td>-0.019278</td>\n",
       "      <td>0.555261</td>\n",
       "      <td>0.005315</td>\n",
       "      <td>-0.867817</td>\n",
       "      <td>...</td>\n",
       "      <td>1.813349</td>\n",
       "      <td>-0.371875</td>\n",
       "      <td>1.545063</td>\n",
       "      <td>1.899054</td>\n",
       "      <td>-0.373544</td>\n",
       "      <td>-0.428051</td>\n",
       "      <td>-0.143472</td>\n",
       "      <td>1.095262</td>\n",
       "      <td>-0.240444</td>\n",
       "      <td>0.285294</td>\n",
       "    </tr>\n",
       "    <tr>\n",
       "      <th>1</th>\n",
       "      <td>1.582106</td>\n",
       "      <td>0.453860</td>\n",
       "      <td>1.569590</td>\n",
       "      <td>1.560576</td>\n",
       "      <td>0.946192</td>\n",
       "      <td>1.067960</td>\n",
       "      <td>1.375494</td>\n",
       "      <td>2.051509</td>\n",
       "      <td>0.946867</td>\n",
       "      <td>-0.395465</td>\n",
       "      <td>...</td>\n",
       "      <td>1.518626</td>\n",
       "      <td>-0.026387</td>\n",
       "      <td>1.356695</td>\n",
       "      <td>1.463694</td>\n",
       "      <td>0.530042</td>\n",
       "      <td>1.093192</td>\n",
       "      <td>0.861314</td>\n",
       "      <td>1.966468</td>\n",
       "      <td>1.163858</td>\n",
       "      <td>0.205301</td>\n",
       "    </tr>\n",
       "    <tr>\n",
       "      <th>2</th>\n",
       "      <td>-0.767117</td>\n",
       "      <td>0.250813</td>\n",
       "      <td>-0.590772</td>\n",
       "      <td>-0.762711</td>\n",
       "      <td>3.290559</td>\n",
       "      <td>3.438483</td>\n",
       "      <td>1.930879</td>\n",
       "      <td>1.463170</td>\n",
       "      <td>2.881262</td>\n",
       "      <td>4.932714</td>\n",
       "      <td>...</td>\n",
       "      <td>-0.278773</td>\n",
       "      <td>0.131690</td>\n",
       "      <td>-0.246823</td>\n",
       "      <td>-0.547953</td>\n",
       "      <td>3.398711</td>\n",
       "      <td>3.918265</td>\n",
       "      <td>1.999398</td>\n",
       "      <td>2.188090</td>\n",
       "      <td>6.086236</td>\n",
       "      <td>4.950457</td>\n",
       "    </tr>\n",
       "    <tr>\n",
       "      <th>3</th>\n",
       "      <td>1.752545</td>\n",
       "      <td>-1.158844</td>\n",
       "      <td>1.779774</td>\n",
       "      <td>1.827915</td>\n",
       "      <td>0.283499</td>\n",
       "      <td>0.549886</td>\n",
       "      <td>1.383068</td>\n",
       "      <td>1.439844</td>\n",
       "      <td>-0.005676</td>\n",
       "      <td>-0.560504</td>\n",
       "      <td>...</td>\n",
       "      <td>1.304847</td>\n",
       "      <td>-1.470265</td>\n",
       "      <td>1.347725</td>\n",
       "      <td>1.227507</td>\n",
       "      <td>0.222998</td>\n",
       "      <td>-0.310393</td>\n",
       "      <td>0.618779</td>\n",
       "      <td>0.736081</td>\n",
       "      <td>-0.868555</td>\n",
       "      <td>-0.394649</td>\n",
       "    </tr>\n",
       "    <tr>\n",
       "      <th>4</th>\n",
       "      <td>-0.474529</td>\n",
       "      <td>-0.841438</td>\n",
       "      <td>-0.385121</td>\n",
       "      <td>-0.503904</td>\n",
       "      <td>2.243076</td>\n",
       "      <td>1.261043</td>\n",
       "      <td>0.875648</td>\n",
       "      <td>0.833102</td>\n",
       "      <td>1.012812</td>\n",
       "      <td>1.900845</td>\n",
       "      <td>...</td>\n",
       "      <td>-0.162544</td>\n",
       "      <td>-0.316467</td>\n",
       "      <td>-0.111378</td>\n",
       "      <td>-0.241438</td>\n",
       "      <td>2.052104</td>\n",
       "      <td>1.735196</td>\n",
       "      <td>1.270831</td>\n",
       "      <td>0.913379</td>\n",
       "      <td>1.769188</td>\n",
       "      <td>2.250684</td>\n",
       "    </tr>\n",
       "  </tbody>\n",
       "</table>\n",
       "<p>5 rows × 30 columns</p>\n",
       "</div>"
      ],
      "text/plain": [
       "          2         3         4         5         6         7         8  \\\n",
       "0  1.832084 -0.358327  1.689106  1.910392 -0.825266 -0.485498 -0.019278   \n",
       "1  1.582106  0.453860  1.569590  1.560576  0.946192  1.067960  1.375494   \n",
       "2 -0.767117  0.250813 -0.590772 -0.762711  3.290559  3.438483  1.930879   \n",
       "3  1.752545 -1.158844  1.779774  1.827915  0.283499  0.549886  1.383068   \n",
       "4 -0.474529 -0.841438 -0.385121 -0.503904  2.243076  1.261043  0.875648   \n",
       "\n",
       "          9        10        11    ...           22        23        24  \\\n",
       "0  0.555261  0.005315 -0.867817    ...     1.813349 -0.371875  1.545063   \n",
       "1  2.051509  0.946867 -0.395465    ...     1.518626 -0.026387  1.356695   \n",
       "2  1.463170  2.881262  4.932714    ...    -0.278773  0.131690 -0.246823   \n",
       "3  1.439844 -0.005676 -0.560504    ...     1.304847 -1.470265  1.347725   \n",
       "4  0.833102  1.012812  1.900845    ...    -0.162544 -0.316467 -0.111378   \n",
       "\n",
       "         25        26        27        28        29        30        31  \n",
       "0  1.899054 -0.373544 -0.428051 -0.143472  1.095262 -0.240444  0.285294  \n",
       "1  1.463694  0.530042  1.093192  0.861314  1.966468  1.163858  0.205301  \n",
       "2 -0.547953  3.398711  3.918265  1.999398  2.188090  6.086236  4.950457  \n",
       "3  1.227507  0.222998 -0.310393  0.618779  0.736081 -0.868555 -0.394649  \n",
       "4 -0.241438  2.052104  1.735196  1.270831  0.913379  1.769188  2.250684  \n",
       "\n",
       "[5 rows x 30 columns]"
      ]
     },
     "execution_count": 122,
     "metadata": {},
     "output_type": "execute_result"
    }
   ],
   "source": [
    "df_feat = pd.DataFrame(scaled_features,columns=dt.columns[1:])\n",
    "df_feat.head()"
   ]
  },
  {
   "cell_type": "markdown",
   "metadata": {},
   "source": [
    "### Splits the data in Train Pack, and Test Pack"
   ]
  },
  {
   "cell_type": "code",
   "execution_count": 123,
   "metadata": {},
   "outputs": [],
   "source": [
    "from sklearn.model_selection import train_test_split"
   ]
  },
  {
   "cell_type": "code",
   "execution_count": 124,
   "metadata": {},
   "outputs": [],
   "source": [
    "X_train, X_test, y_train, y_test = train_test_split(scaled_features, dt['TYPE'], test_size=0.3, train_size=0.7)"
   ]
  },
  {
   "cell_type": "markdown",
   "metadata": {},
   "source": [
    "### Train the KNN"
   ]
  },
  {
   "cell_type": "code",
   "execution_count": 125,
   "metadata": {},
   "outputs": [],
   "source": [
    "from sklearn.neighbors import KNeighborsClassifier"
   ]
  },
  {
   "cell_type": "code",
   "execution_count": 126,
   "metadata": {},
   "outputs": [],
   "source": [
    "knn = KNeighborsClassifier(n_neighbors=1)"
   ]
  },
  {
   "cell_type": "code",
   "execution_count": 127,
   "metadata": {},
   "outputs": [
    {
     "data": {
      "text/plain": [
       "KNeighborsClassifier(algorithm='auto', leaf_size=30, metric='minkowski',\n",
       "           metric_params=None, n_jobs=1, n_neighbors=1, p=2,\n",
       "           weights='uniform')"
      ]
     },
     "execution_count": 127,
     "metadata": {},
     "output_type": "execute_result"
    }
   ],
   "source": [
    "knn.fit(X_train, y_train)"
   ]
  },
  {
   "cell_type": "code",
   "execution_count": 128,
   "metadata": {},
   "outputs": [],
   "source": [
    "pred = knn.predict(X_test)"
   ]
  },
  {
   "cell_type": "markdown",
   "metadata": {},
   "source": [
    "### Prediction Evaluation"
   ]
  },
  {
   "cell_type": "code",
   "execution_count": 129,
   "metadata": {},
   "outputs": [],
   "source": [
    "from sklearn.metrics import confusion_matrix, classification_report"
   ]
  },
  {
   "cell_type": "code",
   "execution_count": 132,
   "metadata": {},
   "outputs": [
    {
     "name": "stdout",
     "output_type": "stream",
     "text": [
      "[[101   4]\n",
      " [  2  64]]\n"
     ]
    }
   ],
   "source": [
    "print(confusion_matrix(y_test, pred))"
   ]
  },
  {
   "cell_type": "code",
   "execution_count": 133,
   "metadata": {},
   "outputs": [
    {
     "name": "stdout",
     "output_type": "stream",
     "text": [
      "             precision    recall  f1-score   support\n",
      "\n",
      "          B       0.98      0.96      0.97       105\n",
      "          M       0.94      0.97      0.96        66\n",
      "\n",
      "avg / total       0.97      0.96      0.97       171\n",
      "\n"
     ]
    }
   ],
   "source": [
    "print(classification_report(y_test, pred))"
   ]
  },
  {
   "cell_type": "code",
   "execution_count": null,
   "metadata": {},
   "outputs": [],
   "source": []
  },
  {
   "cell_type": "code",
   "execution_count": null,
   "metadata": {},
   "outputs": [],
   "source": []
  }
 ],
 "metadata": {
  "kernelspec": {
   "display_name": "Python 3",
   "language": "python",
   "name": "python3"
  },
  "language_info": {
   "codemirror_mode": {
    "name": "ipython",
    "version": 3
   },
   "file_extension": ".py",
   "mimetype": "text/x-python",
   "name": "python",
   "nbconvert_exporter": "python",
   "pygments_lexer": "ipython3",
   "version": "3.6.4"
  }
 },
 "nbformat": 4,
 "nbformat_minor": 2
}
